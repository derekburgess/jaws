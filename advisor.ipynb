{
 "cells": [
  {
   "cell_type": "code",
   "execution_count": null,
   "metadata": {},
   "outputs": [],
   "source": [
    "import re\n",
    "import subprocess\n",
    "import base64\n",
    "import pandas as pd\n",
    "from smolagents import tool, ToolCallingAgent, CodeAgent, PromptTemplates, OpenAIServerModel #TransformersModel, HfApiModel\n",
    "from jaws.jaws_config import *\n",
    "from jaws.jaws_utils import dbms_connection"
   ]
  },
  {
   "cell_type": "code",
   "execution_count": 2,
   "metadata": {},
   "outputs": [],
   "source": [
    "driver = dbms_connection(DATABASE)"
   ]
  },
  {
   "cell_type": "code",
   "execution_count": 3,
   "metadata": {},
   "outputs": [],
   "source": [
    "def sanitize(output: str) -> str:\n",
    "    cleaned = re.sub(r'\\x1b\\[[0-9;]*[a-zA-Z]', '', output)\n",
    "    cleaned = re.sub(r'[╭╮╯╰─│]', '', cleaned)\n",
    "    cleaned = re.sub(r'\\s+', '\\n', cleaned)\n",
    "    lines = [line.strip() for line in cleaned.split('\\n') if line.strip()]\n",
    "    return '\\n'.join(lines)\n",
    "\n",
    "\n",
    "@tool\n",
    "def list_interfaces() -> str:\n",
    "    \"\"\"\n",
    "    Lists all available network interfaces.\n",
    "\n",
    "    Returns:\n",
    "        str: A string listing all available network interfaces.\n",
    "    \"\"\" \n",
    "    interfaces = subprocess.run(['python', './jaws/jaws_capture.py', '--list'], capture_output=True, text=True)\n",
    "    return sanitize(interfaces.stdout)\n",
    "\n",
    "\n",
    "@tool\n",
    "def capture_packets(interface: str, duration: int) -> str:\n",
    "    \"\"\"\n",
    "    Captures packets into the database by running the jaws_capture \n",
    "\n",
    "    Args:\n",
    "        interface (str): The network interface to capture packets from.\n",
    "        duration (int): The duration of the capture in seconds.\n",
    "\n",
    "    Returns:\n",
    "        str: The output of the jaws_capture command.\n",
    "    \"\"\"\n",
    "    packets = subprocess.run(['python', './jaws/jaws_capture.py', '--interface', interface, '--duration', str(duration)], capture_output=True, text=True)\n",
    "    return sanitize(packets.stdout)\n",
    "\n",
    "\n",
    "@tool\n",
    "def fetch_data_for_advisor() -> pd.DataFrame:\n",
    "    \"\"\"\n",
    "    Fetches the latest data from the database and returns it as a pandas DataFrame and JSON.\n",
    "\n",
    "    Returns:\n",
    "        tuple: A tuple containing the pandas DataFrame and JSON representation of the data.\n",
    "    \"\"\"\n",
    "    query = \"\"\"\n",
    "    MATCH (traffic:TRAFFIC)\n",
    "    RETURN DISTINCT\n",
    "        traffic.IP_ADDRESS AS ip_address,\n",
    "        traffic.PORT AS port,\n",
    "        traffic.ORGANIZATION AS org,\n",
    "        traffic.HOSTNAME AS hostname,\n",
    "        traffic.LOCATION AS location,\n",
    "        traffic.TOTAL_SIZE AS total_size,\n",
    "        traffic.OUTLIER AS outlier\n",
    "    \"\"\"\n",
    "    with driver.session(database=DATABASE) as session:\n",
    "        result = session.run(query)\n",
    "        data = []\n",
    "        for record in result:\n",
    "            data.append({\n",
    "                'ip_address': record['ip_address'],\n",
    "                'port': record['port'],\n",
    "                'org': record['org'],\n",
    "                'hostname': record['hostname'],\n",
    "                'location': record['location'],\n",
    "                'total_size': record['total_size'],\n",
    "                'outlier': record['outlier']\n",
    "            })\n",
    "        return pd.DataFrame(data)"
   ]
  },
  {
   "cell_type": "code",
   "execution_count": 4,
   "metadata": {},
   "outputs": [],
   "source": [
    "def encode_image(image_path):\n",
    "  with open(image_path, \"rb\") as image_file:\n",
    "    return base64.b64encode(image_file.read()).decode('utf-8')\n",
    "  \n",
    "EVIDANCE = f\"{FINDER_ENDPOINT}/pca_dbscan_outliers.png\"\n",
    "base64_image = encode_image(EVIDANCE)"
   ]
  },
  {
   "cell_type": "code",
   "execution_count": 5,
   "metadata": {},
   "outputs": [],
   "source": [
    "network_analyst = ToolCallingAgent(\n",
    "    name=\"network_analyst\",\n",
    "    description=\"Collect network traffic and OSINT.\",\n",
    "    model=OpenAIServerModel(model_id=OPENAI_MODEL),\n",
    "    tools=[list_interfaces, capture_packets]\n",
    ")\n",
    "\n",
    "expert_analysis = ToolCallingAgent(\n",
    "    name=\"network_security_advisor\",\n",
    "    description=\"Reviews network traffic and provides recommendations for firewall configurations.\",\n",
    "    model=OpenAIServerModel(model_id=OPENAI_MODEL),\n",
    "    #planning_interval=1,\n",
    "    max_steps=4,\n",
    "    tools=[fetch_data_for_advisor],\n",
    "    managed_agents=[network_analyst]\n",
    ")"
   ]
  },
  {
   "cell_type": "code",
   "execution_count": null,
   "metadata": {},
   "outputs": [],
   "source": [
    "collect_packets = network_analyst.run(\"Add some packets to the database\")\n",
    "#analysis = expert_analysis.run(ADVISOR_PROMPT)"
   ]
  }
 ],
 "metadata": {
  "kernelspec": {
   "display_name": "jaws",
   "language": "python",
   "name": "python3"
  },
  "language_info": {
   "codemirror_mode": {
    "name": "ipython",
    "version": 3
   },
   "file_extension": ".py",
   "mimetype": "text/x-python",
   "name": "python",
   "nbconvert_exporter": "python",
   "pygments_lexer": "ipython3",
   "version": "3.12.4"
  }
 },
 "nbformat": 4,
 "nbformat_minor": 2
}
